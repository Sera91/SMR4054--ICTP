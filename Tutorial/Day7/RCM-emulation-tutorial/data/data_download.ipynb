{
 "cells": [
  {
   "cell_type": "markdown",
   "id": "7ccd5958-945c-4c57-b8ab-8ba23f7ad882",
   "metadata": {},
   "source": [
    "This notebook demonstrates how to download the CORDEXBench dataset for any of the two included domains. All data are available in [this Zenodo repository](https://zenodo.org/records/15797226)."
   ]
  },
  {
   "cell_type": "code",
   "execution_count": null,
   "id": "f88c1e32-0ee3-48a6-a58b-b4c223cf750d",
   "metadata": {},
   "outputs": [],
   "source": [
    "import os\n",
    "import requests\n",
    "import zipfile\n",
    "from tqdm import tqdm"
   ]
  },
  {
   "cell_type": "markdown",
   "id": "cc8ea42e-ac28-404f-99c4-b7556953254b",
   "metadata": {},
   "source": [
    "First, we need to select the domain to download from the following options:\n",
    "\n",
    "- New Zealand (`NZ`)\n",
    "- Europe (`ALPS`)"
   ]
  },
  {
   "cell_type": "code",
   "execution_count": 6,
   "id": "c4e377bb-3ab9-42f9-9f7d-8a231113604a",
   "metadata": {},
   "outputs": [],
   "source": [
    "domain = 'NZ'"
   ]
  },
  {
   "cell_type": "markdown",
   "id": "0e57f66c-941f-46a0-aaf7-320e64d7e27c",
   "metadata": {},
   "source": [
    "We specify the folder where the dataset will be downloaded."
   ]
  },
  {
   "cell_type": "code",
   "execution_count": 7,
   "id": "5b6a9673-9c0c-4df7-88d7-5caf70388103",
   "metadata": {},
   "outputs": [],
   "source": [
    "DATA_PATH = f'./CORDEXBench/{domain}'\n",
    "os.makedirs(DATA_PATH, exist_ok=True)"
   ]
  },
  {
   "cell_type": "markdown",
   "id": "5e8f92af-fdfb-44ef-93bf-50de481d67a8",
   "metadata": {},
   "source": [
    "Below, we automate the download of the corresponding files based on the selected domain. The process varies by domain but should be relatively quick, as each domain’s data is approximately 5 GB."
   ]
  },
  {
   "cell_type": "code",
   "execution_count": null,
   "id": "79043326-84e5-471a-b884-b260e62f1789",
   "metadata": {},
   "outputs": [],
   "source": [
    "def download_and_extract(domain, DATA_PATH=DATA_PATH):\n",
    "    BASE_URL = \"https://zenodo.org/records/15797226/files\"\n",
    "\n",
    "    zip_path = os.path.join(DATA_PATH, f\"{domain}_domain.zip\")\n",
    "    download_url = f\"{BASE_URL}/{domain}_domain.zip?download=1\"\n",
    "\n",
    "    # Stream download with progress bar\n",
    "    with requests.get(download_url, stream=True) as r:\n",
    "        r.raise_for_status()\n",
    "        total_size = int(r.headers.get(\"Content-Length\", 0))\n",
    "        block_size = 8192  # 8 KB\n",
    "\n",
    "        with open(zip_path, 'wb') as f, tqdm(\n",
    "            total=total_size, unit=\"B\", unit_scale=True, desc=f\"Downloading {domain}_domain.zip\"\n",
    "        ) as pbar:\n",
    "            for chunk in r.iter_content(chunk_size=block_size):\n",
    "                f.write(chunk)\n",
    "                pbar.update(len(chunk))\n",
    "\n",
    "    # Extract zip contents into DATA_PATH\n",
    "    with zipfile.ZipFile(zip_path, 'r') as zip_ref:\n",
    "        zip_ref.extractall(DATA_PATH)\n",
    "\n",
    "    # Remove the zip file after extraction\n",
    "    os.remove(zip_path)"
   ]
  },
  {
   "cell_type": "code",
   "execution_count": 9,
   "id": "38e971db-b660-4ceb-b2d7-8881f78ddb9c",
   "metadata": {},
   "outputs": [],
   "source": [
    "download_and_extract(domain)"
   ]
  }
 ],
 "metadata": {
  "kernelspec": {
   "display_name": "rcm-emulation",
   "language": "python",
   "name": "rcm-emulation"
  },
  "language_info": {
   "codemirror_mode": {
    "name": "ipython",
    "version": 3
   },
   "file_extension": ".py",
   "mimetype": "text/x-python",
   "name": "python",
   "nbconvert_exporter": "python",
   "pygments_lexer": "ipython3",
   "version": "3.13.7"
  }
 },
 "nbformat": 4,
 "nbformat_minor": 5
}
