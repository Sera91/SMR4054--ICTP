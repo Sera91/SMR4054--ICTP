{
  "cells": [
    {
      "cell_type": "markdown",
      "metadata": {
        "toc": true,
        "id": "mY_4usNF5uNH"
      },
      "source": [
        "<h1>Table of Contents<span class=\"tocSkip\"></span></h1>\n",
        "<div class=\"toc\" style=\"margin-top: 1em;\"><ul class=\"toc-item\"><li><span><a href=\"#Intro-to-Pytorch\" data-toc-modified-id=\"Intro-to-Pytorch-1\"><span class=\"toc-item-num\">1&nbsp;&nbsp;</span>Intro to Pytorch</a></span><ul class=\"toc-item\"><li><span><a href=\"#Pytorch-tensors\" data-toc-modified-id=\"Pytorch-tensors-1.1\"><span class=\"toc-item-num\">1.1&nbsp;&nbsp;</span>Pytorch tensors</a></span></li><li><span><a href=\"#Pytorch-Autograd\" data-toc-modified-id=\"Pytorch-Autograd-1.2\"><span class=\"toc-item-num\">1.2&nbsp;&nbsp;</span>Pytorch Autograd</a></span></li><li><span><a href=\"#torch.nn-module\" data-toc-modified-id=\"torch.nn-module-1.3\"><span class=\"toc-item-num\">1.3&nbsp;&nbsp;</span>torch.nn module</a></span></li></ul></li><li><span><a href=\"#Linear-Regression-with-Pytorch\" data-toc-modified-id=\"Linear-Regression-with-Pytorch-2\"><span class=\"toc-item-num\">2&nbsp;&nbsp;</span>Linear Regression with Pytorch</a></span><ul class=\"toc-item\"><li><span><a href=\"#Gradient-Descent-with-Pytorch\" data-toc-modified-id=\"Gradient-Descent-with-Pytorch-2.1\"><span class=\"toc-item-num\">2.1&nbsp;&nbsp;</span>Gradient Descent with Pytorch</a></span></li><li><span><a href=\"#Simplified-GD-Loop\" data-toc-modified-id=\"Simplified-GD-Loop-2.2\"><span class=\"toc-item-num\">2.2&nbsp;&nbsp;</span>Simplified GD Loop</a></span><ul class=\"toc-item\"><li><span><a href=\"#Models-in-Pytorch\" data-toc-modified-id=\"Models-in-Pytorch-2.2.1\"><span class=\"toc-item-num\">2.2.1&nbsp;&nbsp;</span>Models in Pytorch</a></span></li></ul></li></ul></li><li><span><a href=\"#Dataset-and-Data-loaders\" data-toc-modified-id=\"Dataset-and-Data-loaders-4\"><span class=\"toc-item-num\">4&nbsp;&nbsp;</span>Dataset and Data loaders</a></span></li><li><span><a\n"
      ]
    },
    {
      "cell_type": "code",
      "execution_count": null,
      "metadata": {
        "tags": [],
        "id": "fVn6xj2q5uNm"
      },
      "outputs": [],
      "source": [
        "# import pytorch libraries\n",
        "%matplotlib inline\n",
        "import torch\n",
        "import torch.autograd as autograd\n",
        "import torch.nn as nn\n",
        "import torch.nn.functional as F\n",
        "import torch.optim as optim\n",
        "import numpy as np"
      ]
    },
    {
      "cell_type": "markdown",
      "metadata": {
        "id": "pQ2Dv2125uNv"
      },
      "source": [
        "# Intro to Pytorch"
      ]
    },
    {
      "cell_type": "markdown",
      "metadata": {
        "id": "PhhLXK_F5uNz"
      },
      "source": [
        "PyTorch consists of 4 main packages:\n",
        "* torch: a general purpose array library similar to Numpy that can do computations on GPU\n",
        "* torch.autograd: a package for automatically obtaining gradients\n",
        "* torch.nn: a neural net library with common layers and cost functions\n",
        "* torch.optim: an optimization package with common optimization algorithms like SGD, Adam, etc"
      ]
    },
    {
      "cell_type": "markdown",
      "metadata": {
        "id": "R8RBWEgP5uN4"
      },
      "source": [
        "## Pytorch tensors\n",
        "Like Numpy tensors but can utilize GPUs to accelerate its numerical computations."
      ]
    },
    {
      "cell_type": "code",
      "execution_count": null,
      "metadata": {
        "tags": [],
        "id": "FNtyUYSt5uN-"
      },
      "outputs": [],
      "source": [
        "# Create random tensor\n",
        "N = 5\n",
        "x = torch.randn(N, 10).type(torch.FloatTensor)"
      ]
    },
    {
      "cell_type": "code",
      "execution_count": null,
      "metadata": {
        "tags": [],
        "id": "BnpixVXS5uOF",
        "outputId": "0716fb14-52df-409d-9244-164ac83aa296"
      },
      "outputs": [
        {
          "data": {
            "text/plain": [
              "tensor([[-1.0143, -1.3316, -1.0182,  1.2241, -2.1306, -0.1408, -0.6346,  0.3522,\n",
              "          1.3222, -0.2397],\n",
              "        [ 0.1348,  1.5571, -0.1957,  0.5740, -0.6543,  0.3794, -1.1318, -0.5098,\n",
              "         -0.1731,  0.4398],\n",
              "        [ 0.5297, -0.6006, -0.6700,  1.4536, -1.1475,  1.0277,  0.3239,  0.4623,\n",
              "          0.3879, -0.5299],\n",
              "        [ 1.1626,  0.2540,  0.7479,  0.8742, -0.1728, -0.2220, -0.4476, -0.5573,\n",
              "         -1.6285, -1.1749],\n",
              "        [ 0.0788,  0.2731,  0.7847,  0.3125,  0.4249, -0.3901,  0.3732, -1.2981,\n",
              "         -0.8974, -0.6928]])"
            ]
          },
          "execution_count": 3,
          "metadata": {},
          "output_type": "execute_result"
        }
      ],
      "source": [
        "x"
      ]
    },
    {
      "cell_type": "code",
      "execution_count": null,
      "metadata": {
        "id": "H1nbcbXC5uOW",
        "outputId": "f630ad34-c3a5-4a1c-b60e-29e19945bfe2"
      },
      "outputs": [
        {
          "data": {
            "text/plain": [
              "tensor([[ 0.4718,  0.4924,  1.4381, -2.0471,  0.4165,  0.3653, -0.2864,\n",
              "         -0.5237,  0.5634, -1.1607, -1.2010, -2.1477,  0.7525,  2.7911,\n",
              "          0.6615, -0.8732, -0.3796, -0.5973, -0.2570, -1.0799,  0.4555,\n",
              "          1.3037, -0.3977, -0.0425, -1.5029, -0.5994, -0.9706,  1.1196,\n",
              "         -0.0705,  1.0711,  1.1604,  0.4517,  1.7333,  1.9172, -1.6083,\n",
              "         -0.9676,  0.6715, -1.3823,  1.4302,  0.0278,  0.0935,  0.7216,\n",
              "         -0.0693,  1.9052, -0.7316,  0.1331,  0.6319,  0.1724, -0.0224,\n",
              "          0.0607]])"
            ]
          },
          "execution_count": 121,
          "metadata": {},
          "output_type": "execute_result"
        }
      ],
      "source": [
        "# reshaping of tensors using .view()\n",
        "x.view(1,-1) #-1 makes torch infer the second dim"
      ]
    },
    {
      "cell_type": "markdown",
      "metadata": {
        "id": "4dPui8ep5uOg"
      },
      "source": [
        "## Pytorch Autograd\n",
        "The autograd package in PyTorch provides classes and functions implementing automatic differentiation of arbitrary scalar valued function. For example, the gradient of the error with respect to all parameters.\n",
        "\n",
        "In order for this to happen we need to declare our paramerers as Tensors with the requires_grad=True keyword. Here is an example:"
      ]
    },
    {
      "cell_type": "code",
      "execution_count": null,
      "metadata": {
        "id": "InBZJNeB5uOn"
      },
      "outputs": [],
      "source": [
        "x = torch.tensor([1., 2., 3., 4., 5., 6.], requires_grad=True)"
      ]
    },
    {
      "cell_type": "code",
      "execution_count": null,
      "metadata": {
        "id": "JjgrfsjM5uOq"
      },
      "outputs": [],
      "source": [
        "x.grad"
      ]
    },
    {
      "cell_type": "code",
      "execution_count": null,
      "metadata": {
        "id": "NkAL1jkI5uOv",
        "outputId": "291c939b-1e3b-48f8-e8d6-f9ba04e28343"
      },
      "outputs": [
        {
          "data": {
            "text/plain": [
              "tensor(188.)"
            ]
          },
          "execution_count": 129,
          "metadata": {},
          "output_type": "execute_result"
        }
      ],
      "source": [
        "L = (2*x**2+1).sum()\n",
        "L"
      ]
    },
    {
      "cell_type": "code",
      "execution_count": null,
      "metadata": {
        "id": "S8yF4tP45uOx"
      },
      "outputs": [],
      "source": [
        "L.backward() # computes the grad of L with respect to x"
      ]
    },
    {
      "cell_type": "code",
      "execution_count": null,
      "metadata": {
        "id": "o4yYzpBg5uO2",
        "outputId": "a37ae505-d7ac-41fd-ef33-cd31e1f6ad7a"
      },
      "outputs": [
        {
          "data": {
            "text/plain": [
              "tensor([  4.,   8.,  12.,  16.,  20.,  24.])"
            ]
          },
          "execution_count": 131,
          "metadata": {},
          "output_type": "execute_result"
        }
      ],
      "source": [
        "x.grad"
      ]
    },
    {
      "cell_type": "markdown",
      "metadata": {
        "id": "i-mT76pB5uO6"
      },
      "source": [
        "## torch.nn module\n",
        "A neural net library with common layers and cost functions"
      ]
    },
    {
      "cell_type": "markdown",
      "metadata": {
        "id": "PXgFh-V65uO7"
      },
      "source": [
        "`nn.Linear(5, 3)` creates a linear transformation ($A\\cdot X+b$) of a $N \\times 5$ matrix into a $N \\times 3$ matrix, where N can be anything (number of observations)."
      ]
    },
    {
      "cell_type": "code",
      "execution_count": null,
      "metadata": {
        "id": "21irxamM5uO8"
      },
      "outputs": [],
      "source": [
        "D = 5 # number of input featutes\n",
        "M = 3 # neurons in the first hidden layer\n",
        "linear_map = nn.Linear(D, M)"
      ]
    },
    {
      "cell_type": "code",
      "execution_count": null,
      "metadata": {
        "id": "6ggWiV__5uPH",
        "outputId": "14d1577e-9307-49ea-9f9a-b3a78b9ec5d6"
      },
      "outputs": [
        {
          "data": {
            "text/plain": [
              "[Parameter containing:\n",
              " tensor([[-0.3528,  0.0860,  0.2760,  0.2519, -0.3476],\n",
              "         [ 0.2809,  0.0041, -0.3845, -0.2117,  0.1618],\n",
              "         [-0.3159,  0.2501, -0.2971, -0.2660,  0.3354]]), Parameter containing:\n",
              " tensor([-0.0624, -0.0422,  0.2595])]"
            ]
          },
          "execution_count": 133,
          "metadata": {},
          "output_type": "execute_result"
        }
      ],
      "source": [
        "# parameters are initialized randomly\n",
        "[p for p in linear_map.parameters()]"
      ]
    },
    {
      "cell_type": "code",
      "execution_count": null,
      "metadata": {
        "id": "9eArAkL75uPO",
        "outputId": "e745c33a-2440-4571-9fbf-78a7afa01051"
      },
      "outputs": [
        {
          "data": {
            "text/plain": [
              "[torch.Size([3, 5]), torch.Size([3])]"
            ]
          },
          "execution_count": 134,
          "metadata": {},
          "output_type": "execute_result"
        }
      ],
      "source": [
        "[p.shape for p in linear_map.parameters()]"
      ]
    },
    {
      "cell_type": "markdown",
      "metadata": {
        "id": "xXrtLROR5uPb"
      },
      "source": [
        "#  Linear Regression with Pytorch"
      ]
    },
    {
      "cell_type": "markdown",
      "metadata": {
        "id": "hdN5Iw1V5uPh"
      },
      "source": [
        "The goal of linear regression is to fit a line to a set of points."
      ]
    },
    {
      "cell_type": "code",
      "execution_count": null,
      "metadata": {
        "tags": [],
        "id": "7Sr00qaE5uPk"
      },
      "outputs": [],
      "source": [
        "# Here we generate some fake data\n",
        "def lin(a,b,x): return a*x+b\n",
        "\n",
        "def gen_fake_data(n, a, b):\n",
        "    x = np.random.uniform(0,1,n)\n",
        "    y = lin(a,b,x) + 0.1 * np.random.normal(0,3,n)\n",
        "    return x, y\n",
        "\n",
        "x, y = gen_fake_data(50, 3., 8.)"
      ]
    },
    {
      "cell_type": "code",
      "execution_count": null,
      "metadata": {
        "tags": [],
        "id": "uMX37bkL5uPp",
        "outputId": "083a01ca-f6a2-4628-81d1-018fea5b2224"
      },
      "outputs": [
        {
          "data": {
            "image/png": "[encoded data removed]",
            "text/plain": [
              "<Figure size 640x480 with 1 Axes>"
            ]
          },
          "metadata": {},
          "output_type": "display_data"
        }
      ],
      "source": [
        "import matplotlib.pyplot as plt\n",
        "plt.scatter(x,y, s=8); plt.xlabel(\"x\"); plt.ylabel(\"y\");"
      ]
    },
    {
      "cell_type": "markdown",
      "metadata": {
        "id": "eGHQ3Kzc5uPv"
      },
      "source": [
        "You want to find **parameters** (weights) $a$ and $b$ such that you minimize the *error* between the points and the line $a\\cdot x + b$. Note that here $a$ and $b$ are unknown. For a regression problem the most common *error function* or *loss function* is the **mean squared error** ($\\sum_i (\\hat{y}_i - y_i)^2$)."
      ]
    },
    {
      "cell_type": "code",
      "execution_count": null,
      "metadata": {
        "id": "bKwOlQFy5uPy"
      },
      "outputs": [],
      "source": [
        "def mse(y_hat, y): return ((y_hat - y) ** 2).mean()"
      ]
    },
    {
      "cell_type": "markdown",
      "metadata": {
        "id": "LcXa-OIE5uP0"
      },
      "source": [
        "Suppose we believe $a = 10$ and $b = 5$ then we can compute `y_hat` which is our *prediction* and then compute our error."
      ]
    },
    {
      "cell_type": "code",
      "execution_count": null,
      "metadata": {
        "id": "tmQDE2bq5uP4",
        "outputId": "f2924095-01e4-4dd2-aa4f-5fc94a73b434"
      },
      "outputs": [
        {
          "data": {
            "text/plain": [
              "4.13858088847019"
            ]
          },
          "execution_count": 138,
          "metadata": {},
          "output_type": "execute_result"
        }
      ],
      "source": [
        "y_hat = lin(10,5,x)\n",
        "mse(y_hat, y)"
      ]
    },
    {
      "cell_type": "code",
      "execution_count": null,
      "metadata": {
        "id": "MgidPhS25uP9"
      },
      "outputs": [],
      "source": [
        "def mse_loss(a, b, x, y): return mse(lin(a,b,x), y)"
      ]
    },
    {
      "cell_type": "code",
      "execution_count": null,
      "metadata": {
        "id": "p7r5Klmp5uQA",
        "outputId": "1dc48d4a-6661-4914-e493-e9449658d72f"
      },
      "outputs": [
        {
          "data": {
            "text/plain": [
              "4.13858088847019"
            ]
          },
          "execution_count": 140,
          "metadata": {},
          "output_type": "execute_result"
        }
      ],
      "source": [
        "mse_loss(10, 5, x, y)"
      ]
    },
    {
      "cell_type": "markdown",
      "metadata": {
        "id": "DUP87wJq5uQE"
      },
      "source": [
        "So far we have specified the *model* (linear regression) and the *evaluation criteria* (or *loss function*). Now we need to handle *optimization*; that is, how do we find the best values for $a$ and $b$? How do we find the best *fitting* linear regression."
      ]
    },
    {
      "cell_type": "markdown",
      "metadata": {
        "id": "ox8LVOwD5uQH"
      },
      "source": [
        "## Gradient Descent with Pytorch"
      ]
    },
    {
      "cell_type": "markdown",
      "metadata": {
        "id": "5NsnK4vQ5uQM"
      },
      "source": [
        "For a fixed dataset $x$ and $y$ `mse_loss(a,b)` is a function of $a$ and $b$. We would like to find the values of $a$ and $b$ that minimize that function.\n",
        "\n",
        "**Gradient descent** is an algorithm that minimizes functions. Given a function defined by a set of parameters, gradient descent starts with an initial set of parameter values and iteratively moves toward a set of parameter values that minimize the function. This iterative minimization is achieved by taking steps in the negative direction of the function gradient.\n",
        "\n",
        "Here is gradient descent implemented in [PyTorch](http://pytorch.org/)."
      ]
    },
    {
      "cell_type": "code",
      "execution_count": null,
      "metadata": {
        "id": "ChSmUPNd5uQR",
        "outputId": "dba8aa09-5521-41cb-afdc-0d2e8a7035ac"
      },
      "outputs": [
        {
          "data": {
            "text/plain": [
              "((10000,), (10000,))"
            ]
          },
          "execution_count": 141,
          "metadata": {},
          "output_type": "execute_result"
        }
      ],
      "source": [
        "# generate some more data\n",
        "x, y = gen_fake_data(10000, 3., 8.)\n",
        "x.shape, y.shape"
      ]
    },
    {
      "cell_type": "code",
      "execution_count": null,
      "metadata": {
        "id": "vJMDRuAQ5uQe"
      },
      "outputs": [],
      "source": [
        "# Wrap x and y as tensor\n",
        "x = torch.tensor(x)\n",
        "y = torch.tensor(y)"
      ]
    },
    {
      "cell_type": "code",
      "execution_count": null,
      "metadata": {
        "id": "HL3pxPvO5uQk",
        "outputId": "0f635497-7c3b-4717-e967-001b0350f803"
      },
      "outputs": [
        {
          "data": {
            "text/plain": [
              "(tensor([ 0.3027], dtype=torch.float64),\n",
              " tensor([ 0.3826], dtype=torch.float64))"
            ]
          },
          "execution_count": 143,
          "metadata": {},
          "output_type": "execute_result"
        }
      ],
      "source": [
        "# Create random Tensors for weights, and wrap them in tensors.\n",
        "# Setting requires_grad=True indicates that we want to compute gradients with\n",
        "# respect to these tensors during the backward pass.\n",
        "a, b = np.random.randn(1), np.random.randn(1)\n",
        "a = torch.tensor(a, requires_grad=True)\n",
        "b = torch.tensor(b, requires_grad=True)\n",
        "a,b"
      ]
    },
    {
      "cell_type": "code",
      "execution_count": null,
      "metadata": {
        "id": "9p0eQ0ZA5uQp",
        "outputId": "7b479a81-09c5-4fff-edca-540841789e2c"
      },
      "outputs": [
        {
          "name": "stdout",
          "output_type": "stream",
          "text": [
            "81.13622416135456\n",
            "0.66566808309493\n",
            "0.15021329799563973\n",
            "0.13368645415876013\n",
            "0.12331514243418733\n",
            "0.11534360520250336\n",
            "0.10920545546099177\n",
            "0.10447896036346142\n",
            "0.10083946646602995\n",
            "0.09803698480285358\n"
          ]
        }
      ],
      "source": [
        "learning_rate = 1e-3\n",
        "for t in range(10000):\n",
        "    # Forward pass: compute predicted y using operations on Variables\n",
        "    loss = mse_loss(a,b,x,y)\n",
        "    if t % 1000 == 0: print(loss.item())\n",
        "\n",
        "    # Computes the gradient of loss with respect to all Variables with requires_grad=True.\n",
        "    # After this call a.grad and b.grad will be Variables holding the gradient\n",
        "    # of the loss with respect to a and b respectively\n",
        "    loss.backward()\n",
        "\n",
        "    # Update a and b using gradient descent; a.data and b.data are Tensors,\n",
        "    # a.grad and b.grad are Variables and a.grad.data and b.grad.data are Tensors\n",
        "    a.data -= learning_rate * a.grad.data\n",
        "    b.data -= learning_rate * b.grad.data\n",
        "\n",
        "    # Zero the gradients\n",
        "    a.grad.data.zero_()\n",
        "    b.grad.data.zero_()"
      ]
    },
    {
      "cell_type": "code",
      "execution_count": null,
      "metadata": {
        "id": "qP5c_ARU5uQu",
        "outputId": "31ae9fd1-22df-4348-f1e1-a419eb66e322"
      },
      "outputs": [
        {
          "name": "stdout",
          "output_type": "stream",
          "text": [
            "tensor([ 3.2914], dtype=torch.float64) tensor([ 7.8412], dtype=torch.float64)\n"
          ]
        }
      ],
      "source": [
        "print(a,b)"
      ]
    },
    {
      "cell_type": "markdown",
      "metadata": {
        "id": "Buy5GCJb5uQy"
      },
      "source": [
        "## Simplified GD Loop"
      ]
    },
    {
      "cell_type": "code",
      "execution_count": null,
      "metadata": {
        "id": "XaxAbfMU5uQ1",
        "outputId": "2b0ec159-73cc-434e-b076-23a32f9f726f"
      },
      "outputs": [
        {
          "data": {
            "text/plain": [
              "Linear(in_features=1, out_features=1, bias=True)"
            ]
          },
          "execution_count": 146,
          "metadata": {},
          "output_type": "execute_result"
        }
      ],
      "source": [
        "# linear tranformation with input dimension=1 and output dimension=1\n",
        "nn.Linear(1, 1)"
      ]
    },
    {
      "cell_type": "markdown",
      "metadata": {
        "id": "O9qX-RAS5uQ4"
      },
      "source": [
        "### Models in Pytorch"
      ]
    },
    {
      "cell_type": "code",
      "execution_count": null,
      "metadata": {
        "id": "w3Fq2oaI5uQ7",
        "outputId": "8b4de7d2-9236-4fa8-f6d1-80c41ecc664d"
      },
      "outputs": [
        {
          "data": {
            "text/plain": [
              "Sequential(\n",
              "  (0): Linear(in_features=1, out_features=1, bias=True)\n",
              ")"
            ]
          },
          "execution_count": 147,
          "metadata": {},
          "output_type": "execute_result"
        }
      ],
      "source": [
        "# simple way of specifying a linear regression model\n",
        "model = torch.nn.Sequential(\n",
        "    nn.Linear(1, 1),\n",
        ")\n",
        "model"
      ]
    },
    {
      "cell_type": "code",
      "execution_count": null,
      "metadata": {
        "id": "heAQrR9z5uQ9"
      },
      "outputs": [],
      "source": [
        "# equivalent way of specifiying the same model\n",
        "class LinearRegression(nn.Module):\n",
        "    def __init__(self):\n",
        "        super(LinearRegression, self).__init__()\n",
        "        self.lin = nn.Linear(1, 1)\n",
        "\n",
        "    def forward(self, x):\n",
        "        x = self.lin(x)\n",
        "        return x\n",
        "model =  LinearRegression()"
      ]
    },
    {
      "cell_type": "code",
      "execution_count": null,
      "metadata": {
        "id": "bT35eCZa5uRA",
        "outputId": "4b20c024-16cf-4007-b760-51d4e76516ec"
      },
      "outputs": [
        {
          "name": "stdout",
          "output_type": "stream",
          "text": [
            "[Parameter containing:\n",
            "tensor([[-0.2104]]), Parameter containing:\n",
            "tensor([-0.7910])]\n"
          ]
        }
      ],
      "source": [
        "# note here we have just two parameters, why?\n",
        "print([p for p in model.parameters()])"
      ]
    },
    {
      "cell_type": "code",
      "execution_count": null,
      "metadata": {
        "id": "5-UFu-Xj5uRD",
        "outputId": "667a3f88-1899-46dc-b305-2f1ae9dce8d4"
      },
      "outputs": [
        {
          "data": {
            "text/plain": [
              "torch.Size([10000])"
            ]
          },
          "execution_count": 150,
          "metadata": {},
          "output_type": "execute_result"
        }
      ],
      "source": [
        "x, y = gen_fake_data(10000, 3., 8.)\n",
        "x = torch.tensor(x).float()\n",
        "y = torch.tensor(y).float()\n",
        "x.shape"
      ]
    },
    {
      "cell_type": "code",
      "execution_count": null,
      "metadata": {
        "id": "yrNGeziQ5uRI",
        "outputId": "df99ada5-f16c-479c-8dea-7f7f719054b9"
      },
      "outputs": [
        {
          "data": {
            "text/plain": [
              "torch.Size([10000, 1])"
            ]
          },
          "execution_count": 98,
          "metadata": {},
          "output_type": "execute_result"
        }
      ],
      "source": [
        "# you have to be careful with the dimensions that your model is expecting\n",
        "x1 = torch.unsqueeze(x, 1)\n",
        "x1.shape"
      ]
    },
    {
      "cell_type": "code",
      "execution_count": null,
      "metadata": {
        "id": "WysY7nrI5uRK",
        "outputId": "af9eb863-e0e9-4d90-948b-d28138a44f34"
      },
      "outputs": [
        {
          "name": "stdout",
          "output_type": "stream",
          "text": [
            "tensor([[-0.9519],\n",
            "        [-0.9101],\n",
            "        [-0.9337],\n",
            "        ...,\n",
            "        [-0.9231],\n",
            "        [-0.8508],\n",
            "        [-0.9065]])\n"
          ]
        }
      ],
      "source": [
        "y_hat = model(x1)\n",
        "print(y_hat)"
      ]
    },
    {
      "cell_type": "code",
      "execution_count": null,
      "metadata": {
        "id": "5OPJk-nJ5uRQ"
      },
      "outputs": [],
      "source": [
        "# Use the optim package to define an Optimizer that will update the\n",
        "# weights of\n",
        "# the model for us. Here we will use Adam\n",
        "learning_rate = 0.1\n",
        "optimizer = torch.optim.Adam(model.parameters(), lr=learning_rate)"
      ]
    },
    {
      "cell_type": "code",
      "execution_count": null,
      "metadata": {
        "id": "FFp8yXO75uRY",
        "outputId": "1692af7d-2496-42fc-f1fe-11672c089d46"
      },
      "outputs": [
        {
          "name": "stdout",
          "output_type": "stream",
          "text": [
            "108.67808532714844\n",
            "0.837367594242096\n",
            "0.8372812271118164\n",
            "0.8372814655303955\n",
            "0.8372810482978821\n",
            "0.837281346321106\n",
            "0.8372812271118164\n",
            "0.8372811675071716\n",
            "0.8372811675071716\n",
            "0.8372811675071716\n"
          ]
        }
      ],
      "source": [
        "for t in range(10000):\n",
        "    # Forward pass: compute predicted y using operations on Variables\n",
        "    y_hat = model(x1)\n",
        "    loss = F.mse_loss(y_hat, y.unsqueeze(1))\n",
        "    if t % 1000 == 0: print(loss.item())\n",
        "\n",
        "    # Before the backward pass, use the optimizer object to zero all of the\n",
        "    # gradients for the variables\n",
        "    optimizer.zero_grad()\n",
        "    loss.backward()\n",
        "\n",
        "    # Calling the step function on an Optimizer makes an update to its\n",
        "    # parameters\n",
        "    optimizer.step()"
      ]
    },
    {
      "cell_type": "code",
      "execution_count": null,
      "metadata": {
        "id": "4naYEjvH5uRi",
        "outputId": "5d9a5b2b-6f35-4ba9-9b4b-12256c2276e1"
      },
      "outputs": [
        {
          "name": "stdout",
          "output_type": "stream",
          "text": [
            "[Parameter containing:\n",
            "tensor(1.00000e-02 *\n",
            "       [[-2.2491]]), Parameter containing:\n",
            "tensor([ 9.4999])]\n"
          ]
        }
      ],
      "source": [
        "print([p for p in model.parameters()])"
      ]
    },
    {
      "cell_type": "code",
      "source": [
        "# -*- coding: utf-8 -*-\n",
        "import numpy as np\n",
        "import math\n",
        "\n",
        "# Create random input and output data\n",
        "x = np.linspace(-math.pi, math.pi, 2000)\n",
        "y = np.sin(x)\n",
        "\n",
        "# Randomly initialize weights\n",
        "a = np.random.randn()\n",
        "b = np.random.randn()\n",
        "c = np.random.randn()\n",
        "d = np.random.randn()\n",
        "\n",
        "learning_rate = 1e-6\n",
        "for t in range(2000):\n",
        "    # Forward pass: compute predicted y\n",
        "    # y = a + b x + c x^2 + d x^3\n",
        "    y_pred = a + b * x + c * x ** 2 + d * x ** 3\n",
        "\n",
        "    # Compute and print loss\n",
        "    loss = np.square(y_pred - y).sum()\n",
        "    if t % 100 == 99:\n",
        "        print(t, loss)\n",
        "\n",
        "    # Backprop to compute gradients of a, b, c, d with respect to loss\n",
        "    grad_y_pred = 2.0 * (y_pred - y)\n",
        "    grad_a = grad_y_pred.sum()\n",
        "    grad_b = (grad_y_pred * x).sum()\n",
        "    grad_c = (grad_y_pred * x ** 2).sum()\n",
        "    grad_d = (grad_y_pred * x ** 3).sum()\n",
        "\n",
        "    # Update weights\n",
        "    a -= learning_rate * grad_a\n",
        "    b -= learning_rate * grad_b\n",
        "    c -= learning_rate * grad_c\n",
        "    d -= learning_rate * grad_d\n",
        "\n",
        "print(f'Result: y = {a} + {b} x + {c} x^2 + {d} x^3')"
      ],
      "metadata": {
        "id": "S3bmFgEr7pC4"
      },
      "execution_count": null,
      "outputs": []
    },
    {
      "cell_type": "code",
      "source": [
        "# -*- coding: utf-8 -*-\n",
        "import torch\n",
        "import math\n",
        "\n",
        "\n",
        "class Polynomial3(torch.nn.Module):\n",
        "    def __init__(self):\n",
        "        \"\"\"\n",
        "        In the constructor we instantiate four parameters and assign them as\n",
        "        member parameters.\n",
        "        \"\"\"\n",
        "        super().__init__()\n",
        "        self.a = torch.nn.Parameter(torch.randn(()))\n",
        "        self.b = torch.nn.Parameter(torch.randn(()))\n",
        "        self.c = torch.nn.Parameter(torch.randn(()))\n",
        "        self.d = torch.nn.Parameter(torch.randn(()))\n",
        "\n",
        "    def forward(self, x):\n",
        "        \"\"\"\n",
        "        In the forward function we accept a Tensor of input data and we must return\n",
        "        a Tensor of output data. We can use Modules defined in the constructor as\n",
        "        well as arbitrary operators on Tensors.\n",
        "        \"\"\"\n",
        "        return self.a + self.b * x + self.c * x ** 2 + self.d * x ** 3\n",
        "\n",
        "    def string(self):\n",
        "        \"\"\"\n",
        "        Just like any class in Python, you can also define custom method on PyTorch modules\n",
        "        \"\"\"\n",
        "        return f'y = {self.a.item()} + {self.b.item()} x + {self.c.item()} x^2 + {self.d.item()} x^3'\n",
        "\n",
        "\n",
        "# Create Tensors to hold input and outputs.\n",
        "x = torch.linspace(-math.pi, math.pi, 2000)\n",
        "y = torch.sin(x)\n",
        "\n",
        "# Construct our model by instantiating the class defined above\n",
        "model = Polynomial3()\n",
        "\n",
        "# Construct our loss function and an Optimizer. The call to model.parameters()\n",
        "# in the SGD constructor will contain the learnable parameters (defined\n",
        "# with torch.nn.Parameter) which are members of the model.\n",
        "criterion = torch.nn.MSELoss(reduction='sum')\n",
        "optimizer = torch.optim.SGD(model.parameters(), lr=1e-6)\n",
        "for t in range(2000):\n",
        "    # Forward pass: Compute predicted y by passing x to the model\n",
        "    y_pred = model(x)\n",
        "\n",
        "    # Compute and print loss\n",
        "    loss = criterion(y_pred, y)\n",
        "    if t % 100 == 99:\n",
        "        print(t, loss.item())\n",
        "\n",
        "    # Zero gradients, perform a backward pass, and update the weights.\n",
        "    optimizer.zero_grad()\n",
        "    loss.backward()\n",
        "    optimizer.step()\n",
        "\n",
        "print(f'Result: {model.string()}')"
      ],
      "metadata": {
        "id": "sWkJclUE8WEe"
      },
      "execution_count": null,
      "outputs": []
    },
    {
      "cell_type": "markdown",
      "metadata": {
        "id": "Q2rh5D3H5uSc"
      },
      "source": [
        "# Dataset and Data loaders"
      ]
    },
    {
      "cell_type": "markdown",
      "metadata": {
        "id": "D02SEGij5uSg"
      },
      "source": [
        "Nearly all of deep learning is powered by one very important algorithm: **stochastic gradient descent (SGD)**. SGD can be seeing as an approximation of **gradient descent** (GD). In GD you have to run through *all* the samples in your training set to do a single itaration. In SGD you use *only one* or *a subset*  of training samples to do the update for a parameter in a particular iteration. The subset use in every iteration is called a **batch** or **minibatch**."
      ]
    },
    {
      "cell_type": "code",
      "execution_count": null,
      "metadata": {
        "id": "f-TZ4N_I5uSk"
      },
      "outputs": [],
      "source": [
        "model2 = torch.nn.Sequential(\n",
        "    torch.nn.Linear(1, 1),\n",
        ")"
      ]
    },
    {
      "cell_type": "code",
      "execution_count": null,
      "metadata": {
        "id": "U_ovs0jG5uSo"
      },
      "outputs": [],
      "source": [
        "from torch.utils.data import Dataset, DataLoader"
      ]
    },
    {
      "cell_type": "code",
      "execution_count": null,
      "metadata": {
        "id": "r4oP_ks05uSt"
      },
      "outputs": [],
      "source": [
        "def lin(a,b,x): return a*x+b\n",
        "\n",
        "def gen_fake_data(n, a, b):\n",
        "    x = np.random.uniform(0,1,n)\n",
        "    y = lin(a,b,x) + 0.1 * np.random.normal(0,3,n)\n",
        "    return x.astype(np.float32), y.astype(np.float32)\n",
        "\n",
        "# create a dataset\n",
        "class RegressionDataset(Dataset):\n",
        "    def __init__(self, a=3, b=8, n=10000):\n",
        "        x, y = gen_fake_data(n, a, b)\n",
        "        x = torch.from_numpy(x).unsqueeze(1)\n",
        "        y = torch.from_numpy(y)\n",
        "        self.x, self.y = x, y\n",
        "\n",
        "    def __len__(self):\n",
        "        return len(self.y)\n",
        "\n",
        "    def __getitem__(self, idx):\n",
        "        return self.x[idx], self.y[idx]\n",
        "\n",
        "fake_dataset = RegressionDataset()"
      ]
    },
    {
      "cell_type": "markdown",
      "metadata": {
        "id": "2kTkWc0a5uSy"
      },
      "source": [
        "Next we are going to create a data loader. The data loader provides the following features:\n",
        "* Batching the data\n",
        "* Shuffling the data\n",
        "* Load the data in parallel using multiprocessing workers."
      ]
    },
    {
      "cell_type": "code",
      "execution_count": null,
      "metadata": {
        "id": "EDmDRVBD5uS3"
      },
      "outputs": [],
      "source": [
        "dataloader = DataLoader(fake_dataset, batch_size=1000, shuffle=True)\n",
        "x, y = next(iter(dataloader))"
      ]
    },
    {
      "cell_type": "code",
      "execution_count": null,
      "metadata": {
        "id": "9XhBYJU75uS7",
        "outputId": "efed650e-9428-43cd-cf50-42fa1c2ae23e"
      },
      "outputs": [
        {
          "data": {
            "text/plain": [
              "(torch.Size([1000, 1]), torch.Size([1000]))"
            ]
          },
          "execution_count": 170,
          "metadata": {},
          "output_type": "execute_result"
        }
      ],
      "source": [
        "x.shape, y.shape"
      ]
    },
    {
      "cell_type": "code",
      "execution_count": null,
      "metadata": {
        "id": "IXrgwOid5uS_"
      },
      "outputs": [],
      "source": [
        "learning_rate = 0.1\n",
        "optimizer = torch.optim.Adam(model2.parameters(), lr=learning_rate)"
      ]
    },
    {
      "cell_type": "code",
      "execution_count": null,
      "metadata": {
        "id": "LX8COjPp5uTC",
        "outputId": "d1daeb54-5b12-46a2-9312-3e4f08c9365e"
      },
      "outputs": [
        {
          "name": "stdout",
          "output_type": "stream",
          "text": [
            "51.12288284301758\n",
            "0.09465768933296204\n",
            "0.08867532014846802\n",
            "0.10067543387413025\n"
          ]
        }
      ],
      "source": [
        "for t in range(200):\n",
        "    for i, (x, y) in enumerate(dataloader):\n",
        "\n",
        "        y_hat = model2(x)\n",
        "        loss = F.mse_loss(y_hat, y.unsqueeze(1))\n",
        "\n",
        "        optimizer.zero_grad()\n",
        "        loss.backward()\n",
        "\n",
        "        optimizer.step()\n",
        "    if t % 50 == 0: print(loss.item())"
      ]
    },
    {
      "cell_type": "code",
      "execution_count": null,
      "metadata": {
        "id": "op8pGMdr5uTF",
        "outputId": "9523b94e-cdc7-4d52-dd3e-293434c4a8f6"
      },
      "outputs": [
        {
          "name": "stdout",
          "output_type": "stream",
          "text": [
            "[Parameter containing:\n",
            "tensor([[ 2.9897]]), Parameter containing:\n",
            "tensor([ 8.0051])]\n"
          ]
        }
      ],
      "source": [
        "print([p for p in model2.parameters()])"
      ]
    },
    {
      "cell_type": "code",
      "execution_count": null,
      "metadata": {
        "id": "8wqUIU2l5uTX"
      },
      "outputs": [],
      "source": []
    },
    {
      "cell_type": "markdown",
      "metadata": {
        "id": "cKc4XVCP5uTX"
      },
      "source": [
        "# References\n",
        "* https://pytorch.org/docs/stable/index.html\n",
        "* http://pytorch.org/tutorials/beginner/pytorch_with_examples.html\n",
        "* https://hsaghir.github.io/data_science/pytorch_starter/"
      ]
    }
  ],
  "metadata": {
    "kernelspec": {
      "display_name": "Python 3 (ipykernel)",
      "language": "python",
      "name": "python3"
    },
    "language_info": {
      "codemirror_mode": {
        "name": "ipython",
        "version": 3
      },
      "file_extension": ".py",
      "mimetype": "text/x-python",
      "name": "python",
      "nbconvert_exporter": "python",
      "pygments_lexer": "ipython3",
      "version": "3.11.4"
    },
    "nav_menu": {},
    "toc": {
      "nav_menu": {
        "height": "116px",
        "width": "251px"
      },
      "number_sections": true,
      "sideBar": true,
      "skip_h1_title": false,
      "toc_cell": true,
      "toc_position": {},
      "toc_section_display": "block",
      "toc_window_display": false
    },
    "colab": {
      "provenance": []
    }
  },
  "nbformat": 4,
  "nbformat_minor": 0
}