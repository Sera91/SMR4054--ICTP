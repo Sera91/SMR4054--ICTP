{
  "metadata": {
    "kernelspec": {
      "language": "python",
      "display_name": "Python 3",
      "name": "python3"
    },
    "language_info": {
      "name": "python",
      "version": "3.11.13",
      "mimetype": "text/x-python",
      "codemirror_mode": {
        "name": "ipython",
        "version": 3
      },
      "pygments_lexer": "ipython3",
      "nbconvert_exporter": "python",
      "file_extension": ".py"
    },
    "kaggle": {
      "accelerator": "none",
      "dataSources": [
        {
          "sourceId": 1760012,
          "sourceType": "datasetVersion",
          "datasetId": 1046158
        }
      ],
      "dockerImageVersionId": 31089,
      "isInternetEnabled": false,
      "language": "python",
      "sourceType": "notebook",
      "isGpuEnabled": false
    },
    "colab": {
      "provenance": []
    }
  },
  "nbformat_minor": 0,
  "nbformat": 4,
  "cells": [
    {
      "cell_type": "code",
      "source": [
        "#importing libraries\n",
        "\n",
        "import numpy as np # linear algebra\n",
        "import pandas as pd # data processing, CSV file I/O (e.g. pd.read_csv)\n",
        "\n",
        "import os\n"
      ],
      "metadata": {
        "_uuid": "8f2839f25d086af736a60e9eeb907d3b93b6e0e5",
        "_cell_guid": "b1076dfc-b9ad-4769-8c92-a6c4dae69d19",
        "trusted": true,
        "execution": {
          "iopub.status.busy": "2025-08-25T12:46:01.567796Z",
          "iopub.execute_input": "2025-08-25T12:46:01.568136Z",
          "iopub.status.idle": "2025-08-25T12:46:04.006163Z",
          "shell.execute_reply.started": "2025-08-25T12:46:01.56811Z",
          "shell.execute_reply": "2025-08-25T12:46:04.005056Z"
        },
        "id": "NMLCFMJArj8U"
      },
      "outputs": [],
      "execution_count": null
    },
    {
      "cell_type": "code",
      "source": [
        "import pandas as pd\n",
        "import numpy as np\n",
        "import matplotlib.pyplot as plt\n",
        "import seaborn as sns\n",
        "from sklearn.preprocessing import LabelEncoder,StandardScaler\n",
        "from sklearn.model_selection import train_test_split\n",
        "from sklearn.ensemble import RandomForestClassifier\n",
        "from xgboost import XGBClassifier\n",
        "from sklearn.metrics import accuracy_score,mean_squared_error,confusion_matrix,classification_report"
      ],
      "metadata": {
        "trusted": true,
        "execution": {
          "iopub.status.busy": "2025-08-25T12:46:11.279287Z",
          "iopub.execute_input": "2025-08-25T12:46:11.280105Z",
          "iopub.status.idle": "2025-08-25T12:46:13.250318Z",
          "shell.execute_reply.started": "2025-08-25T12:46:11.280073Z",
          "shell.execute_reply": "2025-08-25T12:46:13.249231Z"
        },
        "id": "LaDe9SQGrj8Y"
      },
      "outputs": [],
      "execution_count": null
    },
    {
      "cell_type": "markdown",
      "source": [
        "# Load Dataset"
      ],
      "metadata": {
        "id": "2wFZPnPVrj8Y"
      }
    },
    {
      "cell_type": "code",
      "source": [
        "# load the dataset\n",
        "data=pd.read_csv('crop-recommendation-dataset/Crop_recommendation.csv')"
      ],
      "metadata": {
        "trusted": true,
        "execution": {
          "iopub.status.busy": "2025-08-25T12:46:22.215819Z",
          "iopub.execute_input": "2025-08-25T12:46:22.216531Z",
          "iopub.status.idle": "2025-08-25T12:46:22.245142Z",
          "shell.execute_reply.started": "2025-08-25T12:46:22.216474Z",
          "shell.execute_reply": "2025-08-25T12:46:22.244087Z"
        },
        "id": "I4ZeNMu2rj8Z"
      },
      "outputs": [],
      "execution_count": null
    },
    {
      "cell_type": "code",
      "source": [
        "# show the top 5 rows of dataset\n",
        "data.head()"
      ],
      "metadata": {
        "trusted": true,
        "execution": {
          "iopub.status.busy": "2025-08-25T12:46:26.731416Z",
          "iopub.execute_input": "2025-08-25T12:46:26.732336Z",
          "iopub.status.idle": "2025-08-25T12:46:26.763608Z",
          "shell.execute_reply.started": "2025-08-25T12:46:26.732295Z",
          "shell.execute_reply": "2025-08-25T12:46:26.762735Z"
        },
        "id": "UjCcDKT8rj8a"
      },
      "outputs": [],
      "execution_count": null
    },
    {
      "cell_type": "code",
      "source": [
        "# checking the shape of dataset\n",
        "data.shape"
      ],
      "metadata": {
        "trusted": true,
        "execution": {
          "iopub.status.busy": "2025-08-25T12:46:32.610723Z",
          "iopub.execute_input": "2025-08-25T12:46:32.611026Z",
          "iopub.status.idle": "2025-08-25T12:46:32.617263Z",
          "shell.execute_reply.started": "2025-08-25T12:46:32.611002Z",
          "shell.execute_reply": "2025-08-25T12:46:32.616193Z"
        },
        "id": "cimheCGtrj8b"
      },
      "outputs": [],
      "execution_count": null
    },
    {
      "cell_type": "code",
      "source": [
        "# checking the columns\n",
        "data.columns"
      ],
      "metadata": {
        "trusted": true,
        "execution": {
          "iopub.status.busy": "2025-08-25T12:46:34.953596Z",
          "iopub.execute_input": "2025-08-25T12:46:34.954824Z",
          "iopub.status.idle": "2025-08-25T12:46:34.963636Z",
          "shell.execute_reply.started": "2025-08-25T12:46:34.954783Z",
          "shell.execute_reply": "2025-08-25T12:46:34.962671Z"
        },
        "id": "9H_UZuLwrj8b"
      },
      "outputs": [],
      "execution_count": null
    },
    {
      "cell_type": "code",
      "source": [
        "# info of dataset\n",
        "data.info()"
      ],
      "metadata": {
        "trusted": true,
        "execution": {
          "iopub.status.busy": "2025-08-25T12:46:37.333724Z",
          "iopub.execute_input": "2025-08-25T12:46:37.334069Z",
          "iopub.status.idle": "2025-08-25T12:46:37.361389Z",
          "shell.execute_reply.started": "2025-08-25T12:46:37.334047Z",
          "shell.execute_reply": "2025-08-25T12:46:37.360429Z"
        },
        "id": "ltR14G82rj8c"
      },
      "outputs": [],
      "execution_count": null
    },
    {
      "cell_type": "code",
      "source": [
        "# checking the missing values in dataset\n",
        "data.isnull().sum()"
      ],
      "metadata": {
        "trusted": true,
        "execution": {
          "iopub.status.busy": "2025-08-25T12:46:43.172481Z",
          "iopub.execute_input": "2025-08-25T12:46:43.17281Z",
          "iopub.status.idle": "2025-08-25T12:46:43.181321Z",
          "shell.execute_reply.started": "2025-08-25T12:46:43.172786Z",
          "shell.execute_reply": "2025-08-25T12:46:43.180444Z"
        },
        "id": "f73c8Krlrj8d"
      },
      "outputs": [],
      "execution_count": null
    },
    {
      "cell_type": "code",
      "source": [
        "# checking the duplicated values in dataset\n",
        "data.duplicated().sum()"
      ],
      "metadata": {
        "trusted": true,
        "execution": {
          "iopub.status.busy": "2025-08-25T12:46:46.380101Z",
          "iopub.execute_input": "2025-08-25T12:46:46.38133Z",
          "iopub.status.idle": "2025-08-25T12:46:46.391343Z",
          "shell.execute_reply.started": "2025-08-25T12:46:46.381283Z",
          "shell.execute_reply": "2025-08-25T12:46:46.39023Z"
        },
        "id": "TIU4HSOarj8e"
      },
      "outputs": [],
      "execution_count": null
    },
    {
      "cell_type": "code",
      "source": [
        "# statistical summary of dataset numerical columns\n",
        "data.describe()"
      ],
      "metadata": {
        "trusted": true,
        "execution": {
          "iopub.status.busy": "2025-08-25T12:46:52.513553Z",
          "iopub.execute_input": "2025-08-25T12:46:52.513935Z",
          "iopub.status.idle": "2025-08-25T12:46:52.5523Z",
          "shell.execute_reply.started": "2025-08-25T12:46:52.513911Z",
          "shell.execute_reply": "2025-08-25T12:46:52.551246Z"
        },
        "id": "pZHtu9E_rj8f"
      },
      "outputs": [],
      "execution_count": null
    },
    {
      "cell_type": "code",
      "source": [
        "# checking the unique values of label\n",
        "data['label'].unique()"
      ],
      "metadata": {
        "trusted": true,
        "execution": {
          "iopub.status.busy": "2025-08-25T12:47:31.378786Z",
          "iopub.execute_input": "2025-08-25T12:47:31.379083Z",
          "iopub.status.idle": "2025-08-25T12:47:31.386112Z",
          "shell.execute_reply.started": "2025-08-25T12:47:31.379063Z",
          "shell.execute_reply": "2025-08-25T12:47:31.385122Z"
        },
        "id": "ZjUEage5rj8f"
      },
      "outputs": [],
      "execution_count": null
    },
    {
      "cell_type": "code",
      "source": [
        "# checking the values of each labels\n",
        "data['label'].value_counts()"
      ],
      "metadata": {
        "trusted": true,
        "execution": {
          "iopub.status.busy": "2025-08-25T12:48:07.029715Z",
          "iopub.execute_input": "2025-08-25T12:48:07.029998Z",
          "iopub.status.idle": "2025-08-25T12:48:07.038065Z",
          "shell.execute_reply.started": "2025-08-25T12:48:07.029977Z",
          "shell.execute_reply": "2025-08-25T12:48:07.036892Z"
        },
        "id": "zijvQAbyrj8g"
      },
      "outputs": [],
      "execution_count": null
    },
    {
      "cell_type": "code",
      "source": [
        "# Distribution of numerical features\n",
        "num_features = ['N','P','K','temperature','humidity','ph','rainfall']\n",
        "\n",
        "plt.figure(figsize=(15,10))\n",
        "for i, col in enumerate(num_features, 1):\n",
        "    plt.subplot(3, 3, i)\n",
        "    sns.histplot(data[col], kde=True, bins=30)\n",
        "    plt.title(f'Distribution of {col}')\n",
        "plt.tight_layout()\n",
        "plt.show()"
      ],
      "metadata": {
        "trusted": true,
        "execution": {
          "iopub.status.busy": "2025-08-25T12:48:15.986638Z",
          "iopub.execute_input": "2025-08-25T12:48:15.986966Z",
          "iopub.status.idle": "2025-08-25T12:48:18.035194Z",
          "shell.execute_reply.started": "2025-08-25T12:48:15.986943Z",
          "shell.execute_reply": "2025-08-25T12:48:18.034254Z"
        },
        "id": "4aOZAdG_rj8g"
      },
      "outputs": [],
      "execution_count": null
    },
    {
      "cell_type": "code",
      "source": [
        "# Correlation heatmap\n",
        "plt.figure(figsize=(8,6))\n",
        "sns.heatmap(data[num_features].corr(), annot=True, cmap=\"coolwarm\")\n",
        "plt.title(\"Correlation Heatmap of Features\")\n",
        "plt.show()"
      ],
      "metadata": {
        "trusted": true,
        "execution": {
          "iopub.status.busy": "2025-08-25T12:48:24.157381Z",
          "iopub.execute_input": "2025-08-25T12:48:24.157745Z",
          "iopub.status.idle": "2025-08-25T12:48:24.533404Z",
          "shell.execute_reply.started": "2025-08-25T12:48:24.157719Z",
          "shell.execute_reply": "2025-08-25T12:48:24.532282Z"
        },
        "id": "HCX0dHIArj8g"
      },
      "outputs": [],
      "execution_count": null
    },
    {
      "cell_type": "code",
      "source": [
        "#  Boxplots to detect outliers\n",
        "plt.figure(figsize=(15,10))\n",
        "for i, col in enumerate(num_features, 1):\n",
        "    plt.subplot(3, 3, i)\n",
        "    sns.boxplot(y=data[col])\n",
        "    plt.title(f'Boxplot of {col}')\n",
        "plt.tight_layout()\n",
        "plt.show()"
      ],
      "metadata": {
        "trusted": true,
        "execution": {
          "iopub.status.busy": "2025-08-25T12:48:30.589521Z",
          "iopub.execute_input": "2025-08-25T12:48:30.589922Z",
          "iopub.status.idle": "2025-08-25T12:48:31.850654Z",
          "shell.execute_reply.started": "2025-08-25T12:48:30.589896Z",
          "shell.execute_reply": "2025-08-25T12:48:31.84969Z"
        },
        "id": "hV1g0uR0rj8h"
      },
      "outputs": [],
      "execution_count": null
    },
    {
      "cell_type": "code",
      "source": [
        "#  Average feature values by crop\n",
        "\n",
        "plt.figure(figsize=(12,6))\n",
        "avg_values = data.groupby(\"label\")[['N','P','K']].mean()\n",
        "avg_values.plot(kind=\"bar\", figsize=(14,6))\n",
        "plt.title(\"Average NPK values per Crop\")\n",
        "plt.ylabel(\"Mean Value\")\n",
        "plt.show()"
      ],
      "metadata": {
        "trusted": true,
        "execution": {
          "iopub.status.busy": "2025-08-25T12:48:37.408779Z",
          "iopub.execute_input": "2025-08-25T12:48:37.409203Z",
          "iopub.status.idle": "2025-08-25T12:48:37.86459Z",
          "shell.execute_reply.started": "2025-08-25T12:48:37.409153Z",
          "shell.execute_reply": "2025-08-25T12:48:37.863579Z"
        },
        "id": "88dOd7d-rj8i"
      },
      "outputs": [],
      "execution_count": null
    },
    {
      "cell_type": "code",
      "source": [
        "#  Pairplot (sample for visualization due to large dataset)\n",
        "sample_df = data.sample(500, random_state=42)\n",
        "sns.pairplot(sample_df, hue=\"label\", vars=['N','P','K','temperature'])\n",
        "plt.show()"
      ],
      "metadata": {
        "trusted": true,
        "execution": {
          "iopub.status.busy": "2025-08-25T12:48:45.974631Z",
          "iopub.execute_input": "2025-08-25T12:48:45.975039Z",
          "iopub.status.idle": "2025-08-25T12:48:56.127214Z",
          "shell.execute_reply.started": "2025-08-25T12:48:45.975011Z",
          "shell.execute_reply": "2025-08-25T12:48:56.125931Z"
        },
        "id": "4Wiz1jd2rj8i"
      },
      "outputs": [],
      "execution_count": null
    },
    {
      "cell_type": "markdown",
      "source": [
        "# add the some new columns"
      ],
      "metadata": {
        "id": "MI134ddarj8i"
      }
    },
    {
      "cell_type": "code",
      "source": [
        "def feature_engineer(data):\n",
        "    data['NPK'] = (data['N'] + data['P'] + data['K']) / 3\n",
        "    data['THI'] = data['temperature'] * data['humidity'] / 100\n",
        "    data['rainfall_level'] = pd.cut(data['rainfall'],\n",
        "                              bins=[0, 50, 100, 200, 300],\n",
        "                              labels=['Low', 'Medium', 'High', 'Very High'])\n",
        "    def ph_category(p):\n",
        "        if p < 5.5:\n",
        "            return 'Acidic'\n",
        "        elif p <= 7.5:\n",
        "            return 'Neutral'\n",
        "        else:\n",
        "            return 'Alkaline'\n",
        "\n",
        "    data['ph_category'] = data['ph'].apply(ph_category)\n",
        "    data['temp_rain_interaction'] = data['temperature'] * data['rainfall']\n",
        "    data['ph_rain_interaction'] = data['ph'] * data['rainfall']\n",
        "\n",
        "    return data"
      ],
      "metadata": {
        "trusted": true,
        "execution": {
          "iopub.status.busy": "2025-08-25T12:53:01.53404Z",
          "iopub.execute_input": "2025-08-25T12:53:01.535258Z",
          "iopub.status.idle": "2025-08-25T12:53:01.54207Z",
          "shell.execute_reply.started": "2025-08-25T12:53:01.53522Z",
          "shell.execute_reply": "2025-08-25T12:53:01.54082Z"
        },
        "id": "zzL_WjFsrj8i"
      },
      "outputs": [],
      "execution_count": null
    },
    {
      "cell_type": "code",
      "source": [
        "data_fe = feature_engineer(data)\n",
        "data_fe.head()"
      ],
      "metadata": {
        "trusted": true,
        "execution": {
          "iopub.status.busy": "2025-08-25T12:53:03.89402Z",
          "iopub.execute_input": "2025-08-25T12:53:03.894425Z",
          "iopub.status.idle": "2025-08-25T12:53:03.918395Z",
          "shell.execute_reply.started": "2025-08-25T12:53:03.894401Z",
          "shell.execute_reply": "2025-08-25T12:53:03.917422Z"
        },
        "id": "gltbVfEKrj8j"
      },
      "outputs": [],
      "execution_count": null
    },
    {
      "cell_type": "code",
      "source": [
        "# encoding of string columns\n",
        "ec=LabelEncoder()\n",
        "data['label']=ec.fit_transform(data['label'])\n",
        "data['rainfall_level']=#complete\n",
        "data['ph_category']=#complete"
      ],
      "metadata": {
        "trusted": true,
        "execution": {
          "iopub.status.busy": "2025-08-25T12:53:33.813679Z",
          "iopub.execute_input": "2025-08-25T12:53:33.814036Z",
          "iopub.status.idle": "2025-08-25T12:53:33.822728Z",
          "shell.execute_reply.started": "2025-08-25T12:53:33.814012Z",
          "shell.execute_reply": "2025-08-25T12:53:33.821487Z"
        },
        "id": "7f1IppbRrj8j"
      },
      "outputs": [],
      "execution_count": null
    },
    {
      "cell_type": "code",
      "source": [
        "# feature engineering\n",
        "X=data.drop('label',axis=1)\n",
        "y=data['label']"
      ],
      "metadata": {
        "trusted": true,
        "execution": {
          "iopub.status.busy": "2025-08-25T12:53:40.45853Z",
          "iopub.execute_input": "2025-08-25T12:53:40.459278Z",
          "iopub.status.idle": "2025-08-25T12:53:40.465608Z",
          "shell.execute_reply.started": "2025-08-25T12:53:40.459249Z",
          "shell.execute_reply": "2025-08-25T12:53:40.464606Z"
        },
        "id": "c7gMi1O1rj8j"
      },
      "outputs": [],
      "execution_count": null
    },
    {
      "cell_type": "code",
      "source": [
        "# model selection devide the data in traning and testing dataset\n",
        "X_train,X_test,y_train,y_test=train_test_split(X,y,test_size=0.2,random_state=42)"
      ],
      "metadata": {
        "trusted": true,
        "execution": {
          "iopub.status.busy": "2025-08-25T12:53:43.834474Z",
          "iopub.execute_input": "2025-08-25T12:53:43.834835Z",
          "iopub.status.idle": "2025-08-25T12:53:43.843557Z",
          "shell.execute_reply.started": "2025-08-25T12:53:43.834808Z",
          "shell.execute_reply": "2025-08-25T12:53:43.842537Z"
        },
        "id": "crR9eyvgrj8j"
      },
      "outputs": [],
      "execution_count": null
    },
    {
      "cell_type": "code",
      "source": [
        "# feature scaling\n",
        "sc=StandardScaler()\n",
        "X_train=sc.fit_transform(X_train)\n",
        "X_test=sc.transform(X_test)"
      ],
      "metadata": {
        "trusted": true,
        "execution": {
          "iopub.status.busy": "2025-08-25T12:53:46.429635Z",
          "iopub.execute_input": "2025-08-25T12:53:46.429968Z",
          "iopub.status.idle": "2025-08-25T12:53:46.451871Z",
          "shell.execute_reply.started": "2025-08-25T12:53:46.429937Z",
          "shell.execute_reply": "2025-08-25T12:53:46.450812Z"
        },
        "id": "6aC8f6Olrj8k"
      },
      "outputs": [],
      "execution_count": null
    },
    {
      "cell_type": "code",
      "source": [
        "# train the RandomForestClassifier\n",
        "rfc=RandomForestClassifier(n_estimators=#)\n",
        "rfc.fit(X_train,y_train)"
      ],
      "metadata": {
        "trusted": true,
        "execution": {
          "iopub.status.busy": "2025-08-25T12:57:07.266516Z",
          "iopub.execute_input": "2025-08-25T12:57:07.266843Z",
          "iopub.status.idle": "2025-08-25T12:57:07.303351Z",
          "shell.execute_reply.started": "2025-08-25T12:57:07.26682Z",
          "shell.execute_reply": "2025-08-25T12:57:07.302474Z"
        },
        "id": "NmMUro2Rrj8k"
      },
      "outputs": [],
      "execution_count": null
    },
    {
      "cell_type": "code",
      "source": [
        "rfc.score(X_train,y_train)"
      ],
      "metadata": {
        "trusted": true,
        "execution": {
          "iopub.status.busy": "2025-08-25T12:57:09.456888Z",
          "iopub.execute_input": "2025-08-25T12:57:09.458236Z",
          "iopub.status.idle": "2025-08-25T12:57:09.470486Z",
          "shell.execute_reply.started": "2025-08-25T12:57:09.458166Z",
          "shell.execute_reply": "2025-08-25T12:57:09.469234Z"
        },
        "id": "8XN50uxirj8k"
      },
      "outputs": [],
      "execution_count": null
    },
    {
      "cell_type": "code",
      "source": [
        "y_pred_rfc=rfc.predict(X_test)"
      ],
      "metadata": {
        "trusted": true,
        "execution": {
          "iopub.status.busy": "2025-08-25T12:57:12.090581Z",
          "iopub.execute_input": "2025-08-25T12:57:12.090936Z",
          "iopub.status.idle": "2025-08-25T12:57:12.098265Z",
          "shell.execute_reply.started": "2025-08-25T12:57:12.090911Z",
          "shell.execute_reply": "2025-08-25T12:57:12.097259Z"
        },
        "id": "u5SUPmDJrj8k"
      },
      "outputs": [],
      "execution_count": null
    },
    {
      "cell_type": "code",
      "source": [
        "print('accuracy score:',accuracy_score(y_test,y_pred_rfc))\n",
        "print('mean_squared_error:',mean_squared_error(y_test,y_pred_rfc))\n",
        "print('classification report:',classification_report(y_test,y_pred_rfc))"
      ],
      "metadata": {
        "trusted": true,
        "execution": {
          "iopub.status.busy": "2025-08-25T12:57:17.921519Z",
          "iopub.execute_input": "2025-08-25T12:57:17.921878Z",
          "iopub.status.idle": "2025-08-25T12:57:17.940446Z",
          "shell.execute_reply.started": "2025-08-25T12:57:17.921846Z",
          "shell.execute_reply": "2025-08-25T12:57:17.939469Z"
        },
        "id": "vW3dT6HWrj8l"
      },
      "outputs": [],
      "execution_count": null
    },
    {
      "cell_type": "code",
      "source": [
        "# train the Machine leaning Support Vector machine model\n",
        "from sklearn.svm import SVC\n",
        "svm=#\n",
        "svm.fit(X_train,y_train)"
      ],
      "metadata": {
        "trusted": true,
        "execution": {
          "iopub.status.busy": "2025-08-25T12:57:55.026701Z",
          "iopub.execute_input": "2025-08-25T12:57:55.027007Z",
          "iopub.status.idle": "2025-08-25T12:57:55.086653Z",
          "shell.execute_reply.started": "2025-08-25T12:57:55.026984Z",
          "shell.execute_reply": "2025-08-25T12:57:55.085773Z"
        },
        "id": "loqFiH8wrj8l"
      },
      "outputs": [],
      "execution_count": null
    },
    {
      "cell_type": "code",
      "source": [
        "y_pred_svm=svm.predict(X_test)"
      ],
      "metadata": {
        "trusted": true,
        "execution": {
          "iopub.status.busy": "2025-08-25T12:57:57.656415Z",
          "iopub.execute_input": "2025-08-25T12:57:57.656732Z",
          "iopub.status.idle": "2025-08-25T12:57:57.698282Z",
          "shell.execute_reply.started": "2025-08-25T12:57:57.6567Z",
          "shell.execute_reply": "2025-08-25T12:57:57.697141Z"
        },
        "id": "sybjQFk6rj8l"
      },
      "outputs": [],
      "execution_count": null
    },
    {
      "cell_type": "code",
      "source": [
        "print('accuracy score:',accuracy_score(y_test,y_pred_svm))\n",
        "print('mean_squared_error:',mean_squared_error(y_test,y_pred_svm))\n",
        "print('classification report:',classification_report(y_test,y_pred_svm))"
      ],
      "metadata": {
        "trusted": true,
        "execution": {
          "iopub.status.busy": "2025-08-25T12:58:24.533674Z",
          "iopub.execute_input": "2025-08-25T12:58:24.533991Z",
          "iopub.status.idle": "2025-08-25T12:58:24.551131Z",
          "shell.execute_reply.started": "2025-08-25T12:58:24.533966Z",
          "shell.execute_reply": "2025-08-25T12:58:24.550153Z"
        },
        "id": "UFKrmtj5rj8m"
      },
      "outputs": [],
      "execution_count": null
    },
    {
      "cell_type": "code",
      "source": [
        "# train the ML XGBclassifier model\n",
        "xgb=XGBClassifier(random_state=42)\n",
        "xgb.fit(X_train,y_train)"
      ],
      "metadata": {
        "trusted": true,
        "execution": {
          "iopub.status.busy": "2025-08-25T12:59:24.145781Z",
          "iopub.execute_input": "2025-08-25T12:59:24.146336Z",
          "iopub.status.idle": "2025-08-25T12:59:25.002887Z",
          "shell.execute_reply.started": "2025-08-25T12:59:24.146306Z",
          "shell.execute_reply": "2025-08-25T12:59:25.001863Z"
        },
        "id": "UOyinyHBrj8m"
      },
      "outputs": [],
      "execution_count": null
    },
    {
      "cell_type": "code",
      "source": [
        "y_pred_xgb=xgb.predict(X_test)"
      ],
      "metadata": {
        "trusted": true,
        "execution": {
          "iopub.status.busy": "2025-08-25T13:00:02.129442Z",
          "iopub.execute_input": "2025-08-25T13:00:02.13049Z",
          "iopub.status.idle": "2025-08-25T13:00:02.139939Z",
          "shell.execute_reply.started": "2025-08-25T13:00:02.130461Z",
          "shell.execute_reply": "2025-08-25T13:00:02.139235Z"
        },
        "id": "w5vS76DTrj8m"
      },
      "outputs": [],
      "execution_count": null
    },
    {
      "cell_type": "code",
      "source": [
        "print('accuracy score:',accuracy_score(y_test,y_pred_xgb))\n",
        "print('mean_squared_error:',mean_squared_error(y_test,y_pred_xgb))\n",
        "print('classification report:',classification_report(y_test,y_pred_xgb))"
      ],
      "metadata": {
        "trusted": true,
        "execution": {
          "iopub.status.busy": "2025-08-25T13:00:40.532472Z",
          "iopub.execute_input": "2025-08-25T13:00:40.532829Z",
          "iopub.status.idle": "2025-08-25T13:00:40.550026Z",
          "shell.execute_reply.started": "2025-08-25T13:00:40.532806Z",
          "shell.execute_reply": "2025-08-25T13:00:40.549063Z"
        },
        "id": "8PDv16n6rj8m"
      },
      "outputs": [],
      "execution_count": null
    }
  ]
}